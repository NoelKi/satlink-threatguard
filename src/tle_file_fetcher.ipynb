{
 "cells": [
  {
   "cell_type": "code",
   "execution_count": 28,
   "metadata": {},
   "outputs": [
    {
     "name": "stdout",
     "output_type": "stream",
     "text": [
      "TLE-data is fetched and saved in tle_data.txt.\n"
     ]
    }
   ],
   "source": [
    "import library as lib\n",
    "\n",
    "# URL with active satellites from celestrakt\n",
    "tle_url = \"https://www.celestrak.com/NORAD/elements/active.txt\"\n",
    "\n",
    "output_filename = \"sat_data.txt\"\n",
    "\n",
    "lib.fetch_and_save_tle(tle_url, output_filename)"
   ]
  }
 ],
 "metadata": {
  "kernelspec": {
   "display_name": "Orbital",
   "language": "python",
   "name": "python3"
  },
  "language_info": {
   "codemirror_mode": {
    "name": "ipython",
    "version": 3
   },
   "file_extension": ".py",
   "mimetype": "text/x-python",
   "name": "python",
   "nbconvert_exporter": "python",
   "pygments_lexer": "ipython3",
   "version": "3.11.3"
  }
 },
 "nbformat": 4,
 "nbformat_minor": 2
}
